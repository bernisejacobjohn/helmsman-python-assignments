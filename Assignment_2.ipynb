{
  "nbformat": 4,
  "nbformat_minor": 0,
  "metadata": {
    "colab": {
      "name": "Assignment 2",
      "provenance": [],
      "collapsed_sections": [],
      "authorship_tag": "ABX9TyMLD7GHPWiviZ5j5WYgFyka",
      "include_colab_link": true
    },
    "kernelspec": {
      "name": "python3",
      "display_name": "Python 3"
    }
  },
  "cells": [
    {
      "cell_type": "markdown",
      "metadata": {
        "id": "view-in-github",
        "colab_type": "text"
      },
      "source": [
        "<a href=\"https://colab.research.google.com/github/bernisejacobjohn/helsman-python-assigmnets/blob/main/Assignment_2.ipynb\" target=\"_parent\"><img src=\"https://colab.research.google.com/assets/colab-badge.svg\" alt=\"Open In Colab\"/></a>"
      ]
    },
    {
      "cell_type": "code",
      "metadata": {
        "colab": {
          "base_uri": "https://localhost:8080/"
        },
        "id": "L86cF0uUf2aK",
        "outputId": "3de6037b-2aeb-4702-c8f4-cf27e272ac61"
      },
      "source": [
        "marks = (int(input(\"enter the mark\")))\n",
        "if marks > 90 :\n",
        "  print(\" passed with distinction\") \n",
        "elif marks < 60:\n",
        "  print(\"failed\")\n",
        "elif 90 > marks > 60:\n",
        "  print (\"passed\")"
      ],
      "execution_count": null,
      "outputs": [
        {
          "output_type": "stream",
          "text": [
            "enter the mark80\n",
            "passed\n"
          ],
          "name": "stdout"
        }
      ]
    },
    {
      "cell_type": "code",
      "metadata": {
        "colab": {
          "base_uri": "https://localhost:8080/"
        },
        "id": "T1RZlCzImM0n",
        "outputId": "7de32ad9-d7fa-465b-df73-77d385fd7f31"
      },
      "source": [
        "username = 'Bernise'\n",
        "password = '4567'\n",
        "otp = '9898'\n",
        "name= input(\"enter your name\")\n",
        "userpassword = input(\"enter your password\")\n",
        "userotp = input(\"enter otp\")\n",
        "if name == username:\n",
        "   if userpassword == password:\n",
        "      if userotp == otp:\n",
        "         print(\"welcome\" + username)\n",
        "      else: print(\"incorrect otp\")\n",
        "   else: print(\"incorrect password\")\n",
        "else: print(\"the user is not in our database\")"
      ],
      "execution_count": null,
      "outputs": [
        {
          "output_type": "stream",
          "text": [
            "enter your nameBernise\n",
            "enter your password4567\n",
            "enter otp9898\n",
            "welcomeBernise\n"
          ],
          "name": "stdout"
        }
      ]
    },
    {
      "cell_type": "code",
      "metadata": {
        "colab": {
          "base_uri": "https://localhost:8080/"
        },
        "id": "AQkI8cuYn6WL",
        "outputId": "a3d01ccf-38f2-4551-82b1-ce3f4ced5e10"
      },
      "source": [
        "a =int(input(\"enter the first number\"))\n",
        "b =int(input(\"enter the second number\"))\n",
        "for i in range(a,b):\n",
        "  if(i%2==0):\n",
        "    print(i)"
      ],
      "execution_count": null,
      "outputs": [
        {
          "output_type": "stream",
          "text": [
            "enter the first number20\n",
            "enter the second number40\n",
            "20\n",
            "22\n",
            "24\n",
            "26\n",
            "28\n",
            "30\n",
            "32\n",
            "34\n",
            "36\n",
            "38\n"
          ],
          "name": "stdout"
        }
      ]
    },
    {
      "cell_type": "code",
      "metadata": {
        "id": "XJiNxG6VJMBS"
      },
      "source": [
        ""
      ],
      "execution_count": null,
      "outputs": []
    },
    {
      "cell_type": "code",
      "metadata": {
        "colab": {
          "base_uri": "https://localhost:8080/"
        },
        "id": "bA6L-PC8rhEm",
        "outputId": "8e41afd5-e86f-43ca-81b7-378a4c59547b"
      },
      "source": [
        "marks= [95,66,54,45,90,99,79,59,77,88]\n",
        "for i in marks :\n",
        "   if i<60 :\n",
        "      print(i)"
      ],
      "execution_count": null,
      "outputs": [
        {
          "output_type": "stream",
          "text": [
            "54\n",
            "45\n",
            "59\n"
          ],
          "name": "stdout"
        }
      ]
    }
  ]
}